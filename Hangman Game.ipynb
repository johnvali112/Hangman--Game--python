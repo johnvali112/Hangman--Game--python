{
 "cells": [
  {
   "cell_type": "code",
   "execution_count": 3,
   "id": "70d85922",
   "metadata": {},
   "outputs": [
    {
     "name": "stdout",
     "output_type": "stream",
     "text": [
      "shafiya\n",
      "['_', '_', '_', '_', '_', '_', '_']\n",
      "Guess a letter that u think it present in the words\n",
      "['s', '_', '_', '_', '_', '_', '_']\n",
      "Guess a letter that u think it present in the wordh\n",
      "['s', 'h', '_', '_', '_', '_', '_']\n",
      "Guess a letter that u think it present in the wordy\n",
      "['s', 'h', '_', '_', '_', 'y', '_']\n",
      "Guess a letter that u think it present in the worda\n",
      "['s', 'h', 'a', '_', '_', 'y', 'a']\n",
      "Guess a letter that u think it present in the wordf\n",
      "['s', 'h', 'a', 'f', '_', 'y', 'a']\n",
      "Guess a letter that u think it present in the wordi\n",
      "['s', 'h', 'a', 'f', 'i', 'y', 'a']\n",
      "you win!!\n"
     ]
    }
   ],
   "source": [
    "import random\n",
    "\n",
    "word_list=[\"shafiya\",\"shabana\",\"Johnvali\",\"jasmine\"]\n",
    "chosen_word=random.choice(word_list)\n",
    "print(chosen_word)\n",
    "display=[]\n",
    "for i in range(len(chosen_word)):\n",
    "    display+=\"_\"\n",
    "print(display)\n",
    "game_over=False\n",
    "while not game_over:\n",
    "    guessed_letter=input(\"Guess a letter that u think it present in the word\").lower()\n",
    "    for position in range(len(chosen_word)): #shafiya\n",
    "        letter= chosen_word[position]\n",
    "        if letter==guessed_letter:\n",
    "            display[position]=guessed_letter\n",
    "    print(display)\n",
    "    if guessed_letter not in chosen_word:\n",
    "        lives-=1\n",
    "        if lives==0:\n",
    "            game_over=True\n",
    "            print(\"you lose in this game\")\n",
    "    if '_' not in display:\n",
    "        game_over=True\n",
    "        print(\"you win!!\")\n",
    "        \n"
   ]
  },
  {
   "cell_type": "code",
   "execution_count": null,
   "id": "c7dd5cd2",
   "metadata": {},
   "outputs": [],
   "source": []
  }
 ],
 "metadata": {
  "kernelspec": {
   "display_name": "Python 3 (ipykernel)",
   "language": "python",
   "name": "python3"
  },
  "language_info": {
   "codemirror_mode": {
    "name": "ipython",
    "version": 3
   },
   "file_extension": ".py",
   "mimetype": "text/x-python",
   "name": "python",
   "nbconvert_exporter": "python",
   "pygments_lexer": "ipython3",
   "version": "3.11.3"
  }
 },
 "nbformat": 4,
 "nbformat_minor": 5
}
